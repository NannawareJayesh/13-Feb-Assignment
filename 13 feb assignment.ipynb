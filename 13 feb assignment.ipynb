{
 "cells": [
  {
   "cell_type": "markdown",
   "id": "cfee9d6a-4ce9-4e08-a449-4c76fd8601c2",
   "metadata": {},
   "source": [
    "## 13 feb assignment"
   ]
  },
  {
   "cell_type": "markdown",
   "id": "e31097c9-91e0-4343-bf25-88c7dd8a3033",
   "metadata": {},
   "source": [
    "Q1. Explain why we have to use the Exception class while creating a Custom Exception."
   ]
  },
  {
   "cell_type": "markdown",
   "id": "7f49f294-bbfd-47f1-9e56-974fa9491fde",
   "metadata": {},
   "source": [
    "n Python, the Exception class is the base class for all built-in exceptions. When we create a custom exception, we usually inherit from the Exception class to create a new exception class that is specific to our needs.\n",
    "\n",
    "There are several reasons why we inherit from the Exception class:\n",
    "\n",
    "    Inheriting from the Exception class ensures that our custom exception behaves like a standard exception. This means that it can be caught using a try...except block just like any other exception.\n",
    "\n",
    "    By inheriting from the Exception class, our custom exception can have its own custom error message and additional data attributes. This makes it easier for developers to understand and debug errors that occur in our code.\n",
    "\n",
    "    Inheriting from the Exception class also ensures that our custom exception is compatible with other exception-handling features in Python, such as the raise statement, the finally block, and the with statement.\n",
    "\n",
    "Overall, by inheriting from the Exception class, we can create a custom exception that is well-defined, easy to use, and compatible with standard exception-handling techniques in Python."
   ]
  },
  {
   "cell_type": "markdown",
   "id": "2f7bdd0f-49d6-4163-83e5-c05aef405c2e",
   "metadata": {},
   "source": [
    "Q2. Write a python program to print Python Exception Hierarchy."
   ]
  },
  {
   "cell_type": "code",
   "execution_count": null,
   "id": "88c50ed2-3918-4a37-920b-c96313f7416c",
   "metadata": {},
   "outputs": [],
   "source": [
    "def print_exception_hierarchy(exception_class, indent=0):\n",
    "    print(\" \" * indent + str(exception_class))\n",
    "    for subclass in exception_class.__subclasses__():\n",
    "        print_exception_hierarchy(subclass, indent + 4)\n",
    "\n",
    "print_exception_hierarchy(BaseException)\n"
   ]
  },
  {
   "cell_type": "code",
   "execution_count": null,
   "id": "b054b3b0-500a-46b6-bf41-f029b196eaff",
   "metadata": {},
   "outputs": [],
   "source": [
    "OR\n",
    "def print_exception_hierarchy():\n",
    "    \"\"\"\n",
    "    This function prints the Python Exception Hierarchy.\n",
    "    \"\"\"\n",
    "    print(\"Python Exception Hierarchy:\\n\")\n",
    "    base_exception = BaseException\n",
    "    while True:\n",
    "        print(base_exception.__name__)\n",
    "        if base_exception.__name__ == 'BaseException':\n",
    "            break\n",
    "        base_exception = base_exception.__base__\n",
    "\n",
    "print_exception_hierarchy()\n"
   ]
  },
  {
   "cell_type": "markdown",
   "id": "50b91917-5b36-4025-a1e6-18ff83207af8",
   "metadata": {},
   "source": [
    "Q3. What errors are defined in the ArithmeticError class? Explain any two with an example."
   ]
  },
  {
   "cell_type": "markdown",
   "id": "e875353d-8a63-4039-a5f3-2d4108797187",
   "metadata": {},
   "source": [
    "The ArithmeticError class is a built-in exception class in Python that serves as the base class for a number of other exception classes that are related to arithmetic errors. Some of the errors that are defined in the ArithmeticError class include:\n",
    "\n",
    "    ZeroDivisionError: Raised when division or modulo operation is performed on zero.\n",
    "    OverflowError: Raised when a calculation exceeds the maximum limit for a numeric type.\n",
    "    FloatingPointError: Raised when a floating-point calculation fails."
   ]
  },
  {
   "cell_type": "code",
   "execution_count": 2,
   "id": "cb8afbaa-b49d-4a58-83ec-96d1e13a0360",
   "metadata": {},
   "outputs": [
    {
     "name": "stdout",
     "output_type": "stream",
     "text": [
      "Error: division by zero\n"
     ]
    }
   ],
   "source": [
    "# Zero Division Error\n",
    "try:\n",
    "    x = 10 / 0\n",
    "except ZeroDivisionError:\n",
    "    print(\"Error: division by zero\")\n"
   ]
  },
  {
   "cell_type": "code",
   "execution_count": 3,
   "id": "b338c225-f85c-4b88-bde3-81c5bef93cf8",
   "metadata": {},
   "outputs": [],
   "source": [
    "# overflowError\n",
    "import sys\n",
    "\n",
    "try:\n",
    "    x = sys.maxsize + 1\n",
    "except OverflowError:\n",
    "    print(\"Error: integer overflow\")\n"
   ]
  },
  {
   "cell_type": "markdown",
   "id": "c311b754-712c-4f7d-8fda-9ab8c0e0e02b",
   "metadata": {},
   "source": [
    "Q4. Why LookupError class is used? Explain with an example KeyError and IndexError."
   ]
  },
  {
   "cell_type": "markdown",
   "id": "1f4a0bdd-97b0-4cec-84fd-bace57f98868",
   "metadata": {},
   "source": [
    "The LookupError class is a built-in exception class in Python that serves as the base class for a number of other exception classes that are related to lookup errors. Lookup errors occur when we try to access a value that does not exist, such as an index that is out of range or a key that does not exist in a dictionary. By using the LookupError class as a base class, we can catch any of these lookup errors with a single except statement.\n",
    "\n",
    "Two common LookupError subclasses are KeyError and IndexError:"
   ]
  },
  {
   "cell_type": "markdown",
   "id": "ae1eda63-1dbb-4e64-b835-f734c43100f8",
   "metadata": {},
   "source": [
    "KeyError: Raised when a dictionary key is not found in the dictionary."
   ]
  },
  {
   "cell_type": "code",
   "execution_count": 4,
   "id": "b0966799-1f4f-4975-895e-3e2cacbaab10",
   "metadata": {},
   "outputs": [
    {
     "name": "stdout",
     "output_type": "stream",
     "text": [
      "Error: key not found in dictionary\n"
     ]
    }
   ],
   "source": [
    "try:\n",
    "    my_dict = {\"a\": 1, \"b\": 2, \"c\": 3}\n",
    "    value = my_dict[\"d\"]\n",
    "except KeyError:\n",
    "    print(\"Error: key not found in dictionary\")\n"
   ]
  },
  {
   "cell_type": "markdown",
   "id": "982d7606-4353-4a47-a499-1127e06fd8ea",
   "metadata": {},
   "source": [
    "IndexError: Raised when a sequence index is out of range."
   ]
  },
  {
   "cell_type": "code",
   "execution_count": 5,
   "id": "fbb34479-9b38-4168-9ffb-8f8af8ac8efa",
   "metadata": {},
   "outputs": [
    {
     "name": "stdout",
     "output_type": "stream",
     "text": [
      "Error: index out of range\n"
     ]
    }
   ],
   "source": [
    "try:\n",
    "    my_list = [1, 2, 3]\n",
    "    value = my_list[3]\n",
    "except IndexError:\n",
    "    print(\"Error: index out of range\")\n"
   ]
  },
  {
   "cell_type": "markdown",
   "id": "8d0ebfa1-378c-404d-b303-251c6c5705c8",
   "metadata": {},
   "source": [
    "Q5. Explain ImportError. What is ModuleNotFoundError?"
   ]
  },
  {
   "cell_type": "markdown",
   "id": "72a13f5a-0f71-40b6-8650-67c02bfafbf6",
   "metadata": {},
   "source": [
    "ImportError is a built-in exception class in Python that is raised when an import statement fails to import a module or a part of a module. This can happen when the specified module does not exist, is not accessible, or has errors."
   ]
  },
  {
   "cell_type": "markdown",
   "id": "05cf8016-ad11-486e-af5b-f98e0baa43de",
   "metadata": {},
   "source": [
    "ModuleNotFoundError is a subclass of ImportError that was introduced in Python 3.6. It is raised when an import statement fails to find the specified module. This is a more specific type of ImportError that helps to distinguish between import errors that occur because of a missing module and those that occur because of other issues (e.g., syntax errors or name errors)."
   ]
  },
  {
   "cell_type": "markdown",
   "id": "303ae44e-d1ee-4330-b2f9-cc337905492f",
   "metadata": {},
   "source": [
    "Q6. List down some best practices for exception handling in python."
   ]
  },
  {
   "cell_type": "markdown",
   "id": "ef6a5cf3-19f4-4834-8ee2-3c3de48b5071",
   "metadata": {},
   "source": [
    "Here are some best practices for exception handling in Python:\n",
    "\n",
    "    Be specific: Catch only the exceptions that you expect to occur, and avoid catching broad exceptions like Exception. This makes your code more predictable and easier to debug.\n",
    "\n",
    "    Keep it simple: Keep your try...except blocks as small as possible. Don't try to catch all possible exceptions in one block. Instead, use multiple try...except blocks to handle different types of exceptions separately.\n",
    "\n",
    "    Use finally: Always use a finally block to clean up resources, even if an exception occurs. This ensures that your code behaves predictably and releases any resources that it has acquired.\n",
    "\n",
    "    Don't ignore exceptions: Don't use empty except blocks to ignore exceptions. This can make it difficult to debug problems in your code.\n",
    "\n",
    "    Use logging: Use the built-in logging module to log exceptions and other errors. This makes it easier to debug problems in your code.\n",
    "\n",
    "    Don't overuse exceptions: Don't use exceptions to control the flow of your program. Exceptions are meant to handle exceptional conditions, not to replace normal program logic.\n",
    "\n",
    "    Be consistent: Use consistent exception handling throughout your codebase. Use the same exception types and error messages in similar situations to make your code more readable and maintainable.\n",
    "\n",
    "    Use custom exceptions: Use custom exception classes to provide more context and information about specific types of errors that can occur in your code.\n",
    "\n",
    "    Test your code: Test your code with different types of inputs and error conditions to ensure that your exception handling code works as expected."
   ]
  },
  {
   "cell_type": "code",
   "execution_count": null,
   "id": "1a90f97d-c657-480a-9890-bc7221b57bac",
   "metadata": {},
   "outputs": [],
   "source": []
  }
 ],
 "metadata": {
  "kernelspec": {
   "display_name": "Python 3 (ipykernel)",
   "language": "python",
   "name": "python3"
  },
  "language_info": {
   "codemirror_mode": {
    "name": "ipython",
    "version": 3
   },
   "file_extension": ".py",
   "mimetype": "text/x-python",
   "name": "python",
   "nbconvert_exporter": "python",
   "pygments_lexer": "ipython3",
   "version": "3.10.8"
  }
 },
 "nbformat": 4,
 "nbformat_minor": 5
}
